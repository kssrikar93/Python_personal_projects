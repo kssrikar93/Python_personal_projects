{
  "cells": [
    {
      "cell_type": "markdown",
      "source": [
        "Exercise 1: Prime Numbers\n",
        "\n",
        "Write a Python program that checks whether a given number is prime or not. A prime number is a natural number greater than 1 that has no positive divisors other than 1 and itself.\n"
      ],
      "metadata": {
        "id": "G66WEiOqcF-t"
      }
    },
    {
      "cell_type": "code",
      "source": [
        "# finding prime numbers between 2 and 100\n",
        "\n",
        "num = int(input('Please enter an integer-->')) # asking user for input\n",
        "flag = False\n",
        "\n",
        "if num in (0,1):\n",
        "  print(num, 'is not a prime number') # 0,1 are not prime numbers\n",
        "elif num > 1:\n",
        "  for i in range(2, num):\n",
        "    # checking for factors\n",
        "    if num % i == 0:\n",
        "      flag = True\n",
        "      break\n",
        "if flag == True:\n",
        "  print(num, 'is not a prime number')\n",
        "else:\n",
        "  print(num, 'is a prime number')\n",
        "\n",
        "\n",
        "\n"
      ],
      "metadata": {
        "colab": {
          "base_uri": "https://localhost:8080/"
        },
        "id": "zim4YQXsWUr4",
        "outputId": "eea82d5c-df07-4c14-e089-82a73001e9c5"
      },
      "execution_count": null,
      "outputs": [
        {
          "output_type": "stream",
          "name": "stdout",
          "text": [
            "Please enter an integer-->34\n",
            "34 is not a prime number\n"
          ]
        }
      ]
    },
    {
      "cell_type": "code",
      "execution_count": null,
      "metadata": {
        "id": "1WRfit4XnEr2"
      },
      "outputs": [],
      "source": [
        "import numpy as np\n",
        "import pandas as pd"
      ]
    },
    {
      "cell_type": "code",
      "source": [],
      "metadata": {
        "id": "nE54NBaXWb9q"
      },
      "execution_count": null,
      "outputs": []
    },
    {
      "cell_type": "markdown",
      "source": [
        "Exercise 2: Product of Random Numbers\n",
        "\n",
        "Develop a Python program that generates two random numbers and asks the user to enter the product of these numbers. The program should then check if the user's answer is correct and display an appropriate message.\n"
      ],
      "metadata": {
        "id": "9w1kcKUpWc48"
      }
    },
    {
      "cell_type": "code",
      "source": [
        "num_1 = np.random.randint(1,10,1) # generating random integers between 1 and 10\n",
        "num_2 = np.random.randint(1,10,1)\n",
        "\n",
        "print(num_1) # printing the random integers\n",
        "print(num_2)\n",
        "\n",
        "user_input = input(f'Please enter the product of the given numbers {num_1} {num_2}') # asking for user's response\n",
        "user_input\n",
        "\n",
        "answer = num_1 * num_2\n",
        "\n",
        "while not user_input.isdigit() == True:                             # checking for valid response using while loop\n",
        "  print('This is not a valid entry. Please ensure you are entering an integer. Kindly, try again')\n",
        "  user_input = input(f'Please enter the product of the given numbers {num_1} {num_2}')\n",
        "user_input  = int(user_input)\n",
        "\n",
        "if user_input == answer:\n",
        "  print(f'You have entered {user_input}. Your answer is correct!')\n",
        "else:\n",
        "  print(f'You have entered {user_input}. Your answer is incorrect. The correct answer would be {answer}')"
      ],
      "metadata": {
        "colab": {
          "base_uri": "https://localhost:8080/"
        },
        "id": "8tpTUNR7Vv6l",
        "outputId": "d8dbbae0-e866-4974-e9bb-2fe7b1a3fe61"
      },
      "execution_count": null,
      "outputs": [
        {
          "output_type": "stream",
          "name": "stdout",
          "text": [
            "[5]\n",
            "[7]\n",
            "Please enter the product of the given numbers [5] [7]35\n",
            "You have entered 35. Your answer is correct!\n"
          ]
        }
      ]
    },
    {
      "cell_type": "markdown",
      "source": [
        "Exercise 3: Squares of Even/Odd Numbers\n",
        "\n",
        "Create a Python script that prints the squares of all even or odd numbers within the range of 100 to 200. Choose either even or odd numbers and document your choice in the code.\n"
      ],
      "metadata": {
        "id": "xjHS8FF8YO9C"
      }
    },
    {
      "cell_type": "code",
      "source": [
        "even_squares = []\n",
        "odd_squares = []\n",
        "\n",
        "\n",
        "for i in range(100,201):\n",
        "  if i % 2 == 0:\n",
        "    even_squares.append(i*i)\n",
        "  else:\n",
        "    odd_squares.append(i*i)\n",
        "\n",
        "print('The squares of all even numbers between 100 and 200:', even_squares)\n",
        "print('The squares of all odd numbers between 100 and 200:', odd_squares)"
      ],
      "metadata": {
        "colab": {
          "base_uri": "https://localhost:8080/"
        },
        "id": "rwEROqXeV9Wn",
        "outputId": "68d7535c-7bbc-4e05-ffbf-e0b98f067b94"
      },
      "execution_count": null,
      "outputs": [
        {
          "output_type": "stream",
          "name": "stdout",
          "text": [
            "The squares of all even numbers between 100 and 200: [10000, 10404, 10816, 11236, 11664, 12100, 12544, 12996, 13456, 13924, 14400, 14884, 15376, 15876, 16384, 16900, 17424, 17956, 18496, 19044, 19600, 20164, 20736, 21316, 21904, 22500, 23104, 23716, 24336, 24964, 25600, 26244, 26896, 27556, 28224, 28900, 29584, 30276, 30976, 31684, 32400, 33124, 33856, 34596, 35344, 36100, 36864, 37636, 38416, 39204, 40000]\n",
            "The squares of all odd numbers between 100 and 200: [10201, 10609, 11025, 11449, 11881, 12321, 12769, 13225, 13689, 14161, 14641, 15129, 15625, 16129, 16641, 17161, 17689, 18225, 18769, 19321, 19881, 20449, 21025, 21609, 22201, 22801, 23409, 24025, 24649, 25281, 25921, 26569, 27225, 27889, 28561, 29241, 29929, 30625, 31329, 32041, 32761, 33489, 34225, 34969, 35721, 36481, 37249, 38025, 38809, 39601]\n"
          ]
        }
      ]
    },
    {
      "cell_type": "code",
      "source": [],
      "metadata": {
        "id": "Q53wvJZKVWcv"
      },
      "execution_count": null,
      "outputs": []
    },
    {
      "cell_type": "markdown",
      "source": [
        "Exercise 4: Word counter\n",
        "\n",
        "write a program to count the number of words in a given text.\n"
      ],
      "metadata": {
        "id": "1GJfVPqzZRk5"
      }
    },
    {
      "cell_type": "code",
      "execution_count": null,
      "metadata": {
        "id": "0JTdv_D3nEh5",
        "colab": {
          "base_uri": "https://localhost:8080/",
          "height": 598
        },
        "outputId": "9be13c2e-b962-45ba-f114-2fdc1ba67dff"
      },
      "outputs": [
        {
          "output_type": "stream",
          "name": "stdout",
          "text": [
            "['Python', 'programming', 'is', 'beginner', 'friendly.', 'It', 'is', 'very', 'intutive', 'and', 'relatively', 'easy', 'to', 'understand.']\n"
          ]
        },
        {
          "output_type": "stream",
          "name": "stderr",
          "text": [
            "<ipython-input-18-f2366b1f4c1a>:5: FutureWarning: pandas.value_counts is deprecated and will be removed in a future version. Use pd.Series(obj).value_counts() instead.\n",
            "  pd.value_counts(list_1)\n",
            "<ipython-input-18-f2366b1f4c1a>:5: FutureWarning: value_counts with argument that is not not a Series, Index, ExtensionArray, or np.ndarray is deprecated and will raise in a future version.\n",
            "  pd.value_counts(list_1)\n"
          ]
        },
        {
          "output_type": "execute_result",
          "data": {
            "text/plain": [
              "is             2\n",
              "Python         1\n",
              "programming    1\n",
              "beginner       1\n",
              "friendly.      1\n",
              "It             1\n",
              "very           1\n",
              "intutive       1\n",
              "and            1\n",
              "relatively     1\n",
              "easy           1\n",
              "to             1\n",
              "understand.    1\n",
              "Name: count, dtype: int64"
            ],
            "text/html": [
              "<div>\n",
              "<style scoped>\n",
              "    .dataframe tbody tr th:only-of-type {\n",
              "        vertical-align: middle;\n",
              "    }\n",
              "\n",
              "    .dataframe tbody tr th {\n",
              "        vertical-align: top;\n",
              "    }\n",
              "\n",
              "    .dataframe thead th {\n",
              "        text-align: right;\n",
              "    }\n",
              "</style>\n",
              "<table border=\"1\" class=\"dataframe\">\n",
              "  <thead>\n",
              "    <tr style=\"text-align: right;\">\n",
              "      <th></th>\n",
              "      <th>count</th>\n",
              "    </tr>\n",
              "  </thead>\n",
              "  <tbody>\n",
              "    <tr>\n",
              "      <th>is</th>\n",
              "      <td>2</td>\n",
              "    </tr>\n",
              "    <tr>\n",
              "      <th>Python</th>\n",
              "      <td>1</td>\n",
              "    </tr>\n",
              "    <tr>\n",
              "      <th>programming</th>\n",
              "      <td>1</td>\n",
              "    </tr>\n",
              "    <tr>\n",
              "      <th>beginner</th>\n",
              "      <td>1</td>\n",
              "    </tr>\n",
              "    <tr>\n",
              "      <th>friendly.</th>\n",
              "      <td>1</td>\n",
              "    </tr>\n",
              "    <tr>\n",
              "      <th>It</th>\n",
              "      <td>1</td>\n",
              "    </tr>\n",
              "    <tr>\n",
              "      <th>very</th>\n",
              "      <td>1</td>\n",
              "    </tr>\n",
              "    <tr>\n",
              "      <th>intutive</th>\n",
              "      <td>1</td>\n",
              "    </tr>\n",
              "    <tr>\n",
              "      <th>and</th>\n",
              "      <td>1</td>\n",
              "    </tr>\n",
              "    <tr>\n",
              "      <th>relatively</th>\n",
              "      <td>1</td>\n",
              "    </tr>\n",
              "    <tr>\n",
              "      <th>easy</th>\n",
              "      <td>1</td>\n",
              "    </tr>\n",
              "    <tr>\n",
              "      <th>to</th>\n",
              "      <td>1</td>\n",
              "    </tr>\n",
              "    <tr>\n",
              "      <th>understand.</th>\n",
              "      <td>1</td>\n",
              "    </tr>\n",
              "  </tbody>\n",
              "</table>\n",
              "</div><br><label><b>dtype:</b> int64</label>"
            ]
          },
          "metadata": {},
          "execution_count": 18
        }
      ],
      "source": [
        "text = \"Python programming is beginner friendly. It is very intutive and relatively easy to understand.\"\n",
        "list_1 = list(text.split(sep = ' '))\n",
        "print(list_1)\n",
        "\n",
        "pd.value_counts(list_1)\n"
      ]
    },
    {
      "cell_type": "markdown",
      "source": [
        "Exercise 5: Check for Palindrome\n",
        "\n",
        "Write a Python function called is_palindrome that takes a string as input and returns True if the string is a palindrome, and False otherwise. A palindrome is a word, phrase, number, or other sequence of characters that reads the same forward and backward, ignoring spaces, punctuation, and capitalization.\n"
      ],
      "metadata": {
        "id": "DUTnGRolamNx"
      }
    },
    {
      "cell_type": "code",
      "source": [
        "def is_palindrome(x):\n",
        "  \"\"\"\n",
        "This function determines if a particular string is a palindrome or not\n",
        "  \"\"\"\n",
        "  # blank variable 'reverse'\n",
        "  reverse = ''\n",
        "\n",
        "  # introducing a \"for\" loop to iterate over the characters of the string\n",
        "  for char in x:\n",
        "    # reassigning the variable 'reverse' as follows:\n",
        "    reverse = char + reverse\n",
        "\n",
        "  if x == reverse:\n",
        "    print(True)\n",
        "  else:\n",
        "    print(False)"
      ],
      "metadata": {
        "id": "K8jhrVyDaqhq"
      },
      "execution_count": 3,
      "outputs": []
    },
    {
      "cell_type": "code",
      "source": [
        "is_palindrome('racecar')"
      ],
      "metadata": {
        "colab": {
          "base_uri": "https://localhost:8080/"
        },
        "id": "Q5zxbmbEOxBv",
        "outputId": "3eb5d5d4-81e6-4b4b-faed-0718384ccfc2"
      },
      "execution_count": 6,
      "outputs": [
        {
          "output_type": "stream",
          "name": "stdout",
          "text": [
            "True\n"
          ]
        }
      ]
    },
    {
      "cell_type": "code",
      "source": [
        "word = 'Python'\n",
        "\n",
        "is_palindrome(word)"
      ],
      "metadata": {
        "colab": {
          "base_uri": "https://localhost:8080/"
        },
        "id": "7UIZgwgDQYCp",
        "outputId": "a5bc49aa-9a2c-4b64-86d0-b003fc6e4d92"
      },
      "execution_count": 9,
      "outputs": [
        {
          "output_type": "stream",
          "name": "stdout",
          "text": [
            "False\n"
          ]
        }
      ]
    }
  ],
  "metadata": {
    "colab": {
      "provenance": []
    },
    "kernelspec": {
      "display_name": "Python 3",
      "name": "python3"
    },
    "language_info": {
      "name": "python"
    }
  },
  "nbformat": 4,
  "nbformat_minor": 0
}